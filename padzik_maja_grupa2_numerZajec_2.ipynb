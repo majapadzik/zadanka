{
  "nbformat": 4,
  "nbformat_minor": 0,
  "metadata": {
    "colab": {
      "provenance": []
    },
    "kernelspec": {
      "name": "python3",
      "display_name": "Python 3"
    },
    "language_info": {
      "name": "python"
    }
  },
  "cells": [
    {
      "cell_type": "code",
      "execution_count": 4,
      "metadata": {
        "colab": {
          "base_uri": "https://localhost:8080/"
        },
        "id": "48FAI9bwYHqF",
        "outputId": "6be487ed-dcd5-455d-98f0-3c88db9c6d6a"
      },
      "outputs": [
        {
          "output_type": "stream",
          "name": "stdout",
          "text": [
            "ęcia z pro\n",
            "Uwielbiam zajęcia z progamowania\n",
            "wlazęa omaa\n"
          ]
        }
      ],
      "source": [
        "#zadanie 1\n",
        "#a\n",
        "zmienna1 = \"Uwielbiam zajęcia z progamowania\"\n",
        "print(zmienna1[13:23])\n",
        "#b\n",
        "print(zmienna1[-33:])\n",
        "#c\n",
        "print(zmienna1[1::3])"
      ]
    },
    {
      "cell_type": "code",
      "source": [
        "#zadanie 2\n",
        "#a\n",
        "zmienna2 = \"Czarny to mój ulubiony kolor, niestety, kolor czarny szybko się spiera z moich ubrań.\"\n",
        "print(zmienna2.isupper())\n",
        "#b\n",
        "print(zmienna2.startswith(\"C\"))\n",
        "#c\n",
        "print(zmienna2.lower().replace(\"czarny\",\"czerwony\").capitalize())"
      ],
      "metadata": {
        "colab": {
          "base_uri": "https://localhost:8080/"
        },
        "id": "BJkNESNUa8eu",
        "outputId": "3d9c07d7-ec9e-4dfd-daf5-d2e173e83669"
      },
      "execution_count": 13,
      "outputs": [
        {
          "output_type": "stream",
          "name": "stdout",
          "text": [
            "False\n",
            "True\n",
            "Czerwony to mój ulubiony kolor, niestety, kolor czerwony szybko się spiera z moich ubrań.\n"
          ]
        }
      ]
    }
  ]
}